{
 "cells": [
  {
   "cell_type": "code",
   "execution_count": 3,
   "id": "41cecf4d-33b9-45d6-8a1c-62ce4086e4e1",
   "metadata": {},
   "outputs": [],
   "source": [
    "import pandas as pd\n",
    "import numpy as np\n",
    "import matplotlib.pyplot as plt\n",
    "from ipywidgets import interact, interactive, fixed, interact_manual\n",
    "import ipywidgets as widgets"
   ]
  },
  {
   "cell_type": "code",
   "execution_count": 4,
   "id": "aa6bb298-cfa2-403f-9e7e-2a2232007569",
   "metadata": {},
   "outputs": [],
   "source": [
    "# Data from N-2 rocket\n",
    "# Tana is the first rocket launched\n",
    "# It went up to around 80m\n",
    "df = pd.read_csv('tanafull.csv')"
   ]
  },
  {
   "cell_type": "code",
   "execution_count": 5,
   "id": "563b9f45-2667-4ef3-93b4-42c139179288",
   "metadata": {},
   "outputs": [
    {
     "data": {
      "text/html": [
       "<div>\n",
       "<style scoped>\n",
       "    .dataframe tbody tr th:only-of-type {\n",
       "        vertical-align: middle;\n",
       "    }\n",
       "\n",
       "    .dataframe tbody tr th {\n",
       "        vertical-align: top;\n",
       "    }\n",
       "\n",
       "    .dataframe thead th {\n",
       "        text-align: right;\n",
       "    }\n",
       "</style>\n",
       "<table border=\"1\" class=\"dataframe\">\n",
       "  <thead>\n",
       "    <tr style=\"text-align: right;\">\n",
       "      <th></th>\n",
       "      <th>altitude</th>\n",
       "      <th>filtered_a</th>\n",
       "      <th>filtered_s</th>\n",
       "      <th>filtered_v</th>\n",
       "      <th>gx</th>\n",
       "      <th>gy</th>\n",
       "      <th>gz</th>\n",
       "      <th>latitude</th>\n",
       "      <th>longitude</th>\n",
       "      <th>state</th>\n",
       "      <th>temperature</th>\n",
       "    </tr>\n",
       "  </thead>\n",
       "  <tbody>\n",
       "    <tr>\n",
       "      <th>0</th>\n",
       "      <td>1272.909</td>\n",
       "      <td>0.014</td>\n",
       "      <td>1273.154</td>\n",
       "      <td>0.064</td>\n",
       "      <td>-0.001</td>\n",
       "      <td>0.018</td>\n",
       "      <td>0.017</td>\n",
       "      <td>0</td>\n",
       "      <td>0</td>\n",
       "      <td>0</td>\n",
       "      <td>44.983</td>\n",
       "    </tr>\n",
       "    <tr>\n",
       "      <th>1</th>\n",
       "      <td>1272.909</td>\n",
       "      <td>0.014</td>\n",
       "      <td>1273.154</td>\n",
       "      <td>0.064</td>\n",
       "      <td>-0.001</td>\n",
       "      <td>0.018</td>\n",
       "      <td>0.017</td>\n",
       "      <td>0</td>\n",
       "      <td>0</td>\n",
       "      <td>0</td>\n",
       "      <td>44.983</td>\n",
       "    </tr>\n",
       "    <tr>\n",
       "      <th>2</th>\n",
       "      <td>1272.901</td>\n",
       "      <td>0.012</td>\n",
       "      <td>1273.140</td>\n",
       "      <td>0.057</td>\n",
       "      <td>-0.010</td>\n",
       "      <td>0.019</td>\n",
       "      <td>0.017</td>\n",
       "      <td>0</td>\n",
       "      <td>0</td>\n",
       "      <td>0</td>\n",
       "      <td>44.983</td>\n",
       "    </tr>\n",
       "    <tr>\n",
       "      <th>3</th>\n",
       "      <td>1272.901</td>\n",
       "      <td>0.012</td>\n",
       "      <td>1273.140</td>\n",
       "      <td>0.057</td>\n",
       "      <td>-0.010</td>\n",
       "      <td>0.019</td>\n",
       "      <td>0.017</td>\n",
       "      <td>0</td>\n",
       "      <td>0</td>\n",
       "      <td>0</td>\n",
       "      <td>44.983</td>\n",
       "    </tr>\n",
       "    <tr>\n",
       "      <th>4</th>\n",
       "      <td>1272.820</td>\n",
       "      <td>0.010</td>\n",
       "      <td>1273.120</td>\n",
       "      <td>0.047</td>\n",
       "      <td>0.001</td>\n",
       "      <td>0.019</td>\n",
       "      <td>0.017</td>\n",
       "      <td>0</td>\n",
       "      <td>0</td>\n",
       "      <td>0</td>\n",
       "      <td>44.974</td>\n",
       "    </tr>\n",
       "    <tr>\n",
       "      <th>...</th>\n",
       "      <td>...</td>\n",
       "      <td>...</td>\n",
       "      <td>...</td>\n",
       "      <td>...</td>\n",
       "      <td>...</td>\n",
       "      <td>...</td>\n",
       "      <td>...</td>\n",
       "      <td>...</td>\n",
       "      <td>...</td>\n",
       "      <td>...</td>\n",
       "      <td>...</td>\n",
       "    </tr>\n",
       "    <tr>\n",
       "      <th>1826</th>\n",
       "      <td>1284.050</td>\n",
       "      <td>-5.711</td>\n",
       "      <td>1283.788</td>\n",
       "      <td>-27.098</td>\n",
       "      <td>-8.731</td>\n",
       "      <td>-0.286</td>\n",
       "      <td>0.436</td>\n",
       "      <td>0</td>\n",
       "      <td>0</td>\n",
       "      <td>3</td>\n",
       "      <td>45.836</td>\n",
       "    </tr>\n",
       "    <tr>\n",
       "      <th>1827</th>\n",
       "      <td>1284.050</td>\n",
       "      <td>-5.711</td>\n",
       "      <td>1283.788</td>\n",
       "      <td>-27.098</td>\n",
       "      <td>-8.731</td>\n",
       "      <td>-0.286</td>\n",
       "      <td>0.436</td>\n",
       "      <td>0</td>\n",
       "      <td>0</td>\n",
       "      <td>3</td>\n",
       "      <td>45.836</td>\n",
       "    </tr>\n",
       "    <tr>\n",
       "      <th>1828</th>\n",
       "      <td>1283.649</td>\n",
       "      <td>-5.698</td>\n",
       "      <td>1281.238</td>\n",
       "      <td>-27.597</td>\n",
       "      <td>-8.731</td>\n",
       "      <td>-0.435</td>\n",
       "      <td>1.262</td>\n",
       "      <td>0</td>\n",
       "      <td>0</td>\n",
       "      <td>4</td>\n",
       "      <td>45.774</td>\n",
       "    </tr>\n",
       "    <tr>\n",
       "      <th>1829</th>\n",
       "      <td>1283.649</td>\n",
       "      <td>-5.698</td>\n",
       "      <td>1281.238</td>\n",
       "      <td>-27.597</td>\n",
       "      <td>-8.731</td>\n",
       "      <td>-0.435</td>\n",
       "      <td>1.262</td>\n",
       "      <td>0</td>\n",
       "      <td>0</td>\n",
       "      <td>4</td>\n",
       "      <td>45.774</td>\n",
       "    </tr>\n",
       "    <tr>\n",
       "      <th>1830</th>\n",
       "      <td>1283.649</td>\n",
       "      <td>-5.660</td>\n",
       "      <td>1278.865</td>\n",
       "      <td>-27.991</td>\n",
       "      <td>-8.731</td>\n",
       "      <td>-0.463</td>\n",
       "      <td>0.392</td>\n",
       "      <td>0</td>\n",
       "      <td>0</td>\n",
       "      <td>4</td>\n",
       "      <td>45.736</td>\n",
       "    </tr>\n",
       "  </tbody>\n",
       "</table>\n",
       "<p>1831 rows × 11 columns</p>\n",
       "</div>"
      ],
      "text/plain": [
       "      altitude  filtered_a  filtered_s  filtered_v     gx     gy     gz  \\\n",
       "0     1272.909       0.014    1273.154       0.064 -0.001  0.018  0.017   \n",
       "1     1272.909       0.014    1273.154       0.064 -0.001  0.018  0.017   \n",
       "2     1272.901       0.012    1273.140       0.057 -0.010  0.019  0.017   \n",
       "3     1272.901       0.012    1273.140       0.057 -0.010  0.019  0.017   \n",
       "4     1272.820       0.010    1273.120       0.047  0.001  0.019  0.017   \n",
       "...        ...         ...         ...         ...    ...    ...    ...   \n",
       "1826  1284.050      -5.711    1283.788     -27.098 -8.731 -0.286  0.436   \n",
       "1827  1284.050      -5.711    1283.788     -27.098 -8.731 -0.286  0.436   \n",
       "1828  1283.649      -5.698    1281.238     -27.597 -8.731 -0.435  1.262   \n",
       "1829  1283.649      -5.698    1281.238     -27.597 -8.731 -0.435  1.262   \n",
       "1830  1283.649      -5.660    1278.865     -27.991 -8.731 -0.463  0.392   \n",
       "\n",
       "      latitude  longitude  state  temperature  \n",
       "0            0          0      0       44.983  \n",
       "1            0          0      0       44.983  \n",
       "2            0          0      0       44.983  \n",
       "3            0          0      0       44.983  \n",
       "4            0          0      0       44.974  \n",
       "...        ...        ...    ...          ...  \n",
       "1826         0          0      3       45.836  \n",
       "1827         0          0      3       45.836  \n",
       "1828         0          0      4       45.774  \n",
       "1829         0          0      4       45.774  \n",
       "1830         0          0      4       45.736  \n",
       "\n",
       "[1831 rows x 11 columns]"
      ]
     },
     "execution_count": 5,
     "metadata": {},
     "output_type": "execute_result"
    }
   ],
   "source": [
    "df"
   ]
  },
  {
   "cell_type": "code",
   "execution_count": 27,
   "id": "bc72c038-da61-40a9-a078-c30879d02059",
   "metadata": {},
   "outputs": [],
   "source": [
    "# Trim the data frame\n",
    "# Kalman filtered Altitude\n",
    "df2 = df['filtered_s'][1600:]\n",
    "v = df['filtered_v'][1600:]"
   ]
  },
  {
   "cell_type": "code",
   "execution_count": 7,
   "id": "2bb4c12d-007f-416f-a298-dfba798d29e7",
   "metadata": {},
   "outputs": [
    {
     "data": {
      "text/plain": [
       "<AxesSubplot:>"
      ]
     },
     "execution_count": 7,
     "metadata": {},
     "output_type": "execute_result"
    },
    {
     "data": {
      "image/png": "[encoded data removed]",
      "text/plain": [
       "<Figure size 432x288 with 1 Axes>"
      ]
     },
     "metadata": {},
     "output_type": "display_data"
    }
   ],
   "source": [
    "# See the data looks like\n",
    "df2.plot()"
   ]
  },
  {
   "cell_type": "code",
   "execution_count": 28,
   "id": "0ec3026d-404a-4c6a-bc1c-e6c0edd22ec0",
   "metadata": {},
   "outputs": [
    {
     "data": {
      "text/plain": [
       "<AxesSubplot:>"
      ]
     },
     "execution_count": 28,
     "metadata": {},
     "output_type": "execute_result"
    },
    {
     "data": {
      "image/png": "[encoded data removed]",
      "text/plain": [
       "<Figure size 432x288 with 1 Axes>"
      ]
     },
     "metadata": {},
     "output_type": "display_data"
    }
   ],
   "source": [
    "v.plot()"
   ]
  },
  {
   "cell_type": "code",
   "execution_count": 44,
   "id": "7233ffe6-00d3-4d58-ad05-7bdfdc7128ca",
   "metadata": {},
   "outputs": [
    {
     "data": {
      "text/plain": [
       "[<matplotlib.lines.Line2D at 0x12abcaa00>]"
      ]
     },
     "execution_count": 44,
     "metadata": {},
     "output_type": "execute_result"
    },
    {
     "data": {
      "image/png": "[encoded data removed]",
      "text/plain": [
       "<Figure size 432x288 with 1 Axes>"
      ]
     },
     "metadata": {},
     "output_type": "display_data"
    }
   ],
   "source": [
    "import scipy.integrate as it\n",
    "p = it.cumtrapz(v,initial=0)\n",
    "plt.plot(p,label='integral of velocity')\n",
    "plt.plot(np.argmax(p),max(p),'ro')\n",
    "plt.plot(np.array(df2), label='Altitude from KF')\n",
    "plt.plot(np.argmax(np.array(df2)),max(np.array(df2)),'ro')\n",
    "\n",
    "# plt.yscale('log')\n",
    "# plt.ylim([1200,2200])"
   ]
  },
  {
   "cell_type": "code",
   "execution_count": 33,
   "id": "14988bfe-21ce-441d-aada-8e429cb16261",
   "metadata": {},
   "outputs": [
    {
     "data": {
      "text/plain": [
       "1600    1273.243\n",
       "1601    1273.243\n",
       "1602    1273.500\n",
       "1603    1273.500\n",
       "1604    1274.040\n",
       "          ...   \n",
       "1826    1283.788\n",
       "1827    1283.788\n",
       "1828    1281.238\n",
       "1829    1281.238\n",
       "1830    1278.865\n",
       "Name: filtered_s, Length: 231, dtype: float64"
      ]
     },
     "execution_count": 33,
     "metadata": {},
     "output_type": "execute_result"
    }
   ],
   "source": [
    "df2"
   ]
  },
  {
   "cell_type": "code",
   "execution_count": 8,
   "id": "c1e7ad32-b8ef-4a43-a41e-7ab80c453945",
   "metadata": {},
   "outputs": [],
   "source": [
    "# Apogee detection algorithm 1\n",
    "# If there is 5 times consecutive decrease in altitude, it is recognized as the apogee.\n",
    "def detect(xs,MAX_COUNT):\n",
    "    last = xs[0]\n",
    "    # MAX_COUNT = 1\n",
    "    indicator = MAX_COUNT\n",
    "    print(indicator,end=',')\n",
    "    for i,cur in enumerate(xs[1:]):\n",
    "        if (cur > last):\n",
    "            if (indicator < MAX_COUNT):\n",
    "                indicator = MAX_COUNT\n",
    "                print(indicator,end=',')\n",
    "        if (cur < last):\n",
    "            indicator -= 1\n",
    "            print(indicator,end=',')\n",
    "            if indicator == 0:\n",
    "                print()\n",
    "                print(\"Apogee detected at {0} frame. Apogee: {1} [m]\".format(i+1,cur))\n",
    "                return(i+1,cur)\n",
    "        last = cur"
   ]
  },
  {
   "cell_type": "code",
   "execution_count": 9,
   "id": "1d5499a2-f607-422e-8d37-8d7bafd2b125",
   "metadata": {},
   "outputs": [
    {
     "name": "stdout",
     "output_type": "stream",
     "text": [
      "5,4,3,2,1,0,\n",
      "Apogee detected at 114 frame. Apogee: 1371.066 [m]\n"
     ]
    },
    {
     "ename": "NameError",
     "evalue": "name 'sampling_period' is not defined",
     "output_type": "error",
     "traceback": [
      "\u001b[0;31m---------------------------------------------------------------------------\u001b[0m",
      "\u001b[0;31mNameError\u001b[0m                                 Traceback (most recent call last)",
      "\u001b[0;32m/var/folders/z1/r5wl186d23314ypyzy3t8wj80000gn/T/ipykernel_54532/3342604281.py\u001b[0m in \u001b[0;36m<module>\u001b[0;34m\u001b[0m\n\u001b[1;32m      8\u001b[0m \u001b[0;32mfor\u001b[0m \u001b[0mi\u001b[0m \u001b[0;32min\u001b[0m \u001b[0;34m[\u001b[0m\u001b[0;36m5\u001b[0m\u001b[0;34m,\u001b[0m\u001b[0;36m4\u001b[0m\u001b[0;34m,\u001b[0m\u001b[0;36m3\u001b[0m\u001b[0;34m,\u001b[0m\u001b[0;36m2\u001b[0m\u001b[0;34m,\u001b[0m\u001b[0;36m1\u001b[0m\u001b[0;34m]\u001b[0m\u001b[0;34m:\u001b[0m\u001b[0;34m\u001b[0m\u001b[0;34m\u001b[0m\u001b[0m\n\u001b[1;32m      9\u001b[0m     \u001b[0;34m[\u001b[0m\u001b[0mframe\u001b[0m\u001b[0;34m,\u001b[0m\u001b[0mapogee\u001b[0m\u001b[0;34m]\u001b[0m \u001b[0;34m=\u001b[0m \u001b[0mdetect\u001b[0m\u001b[0;34m(\u001b[0m\u001b[0malt\u001b[0m\u001b[0;34m,\u001b[0m \u001b[0mi\u001b[0m\u001b[0;34m)\u001b[0m\u001b[0;34m\u001b[0m\u001b[0;34m\u001b[0m\u001b[0m\n\u001b[0;32m---> 10\u001b[0;31m     \u001b[0mdelay\u001b[0m \u001b[0;34m=\u001b[0m \u001b[0;34m(\u001b[0m\u001b[0mframe\u001b[0m\u001b[0;34m-\u001b[0m\u001b[0mtrue_apogee_index\u001b[0m\u001b[0;34m)\u001b[0m\u001b[0;34m*\u001b[0m\u001b[0msampling_period\u001b[0m\u001b[0;34m\u001b[0m\u001b[0;34m\u001b[0m\u001b[0m\n\u001b[0m\u001b[1;32m     11\u001b[0m     \u001b[0mdelay_frame\u001b[0m \u001b[0;34m=\u001b[0m \u001b[0mframe\u001b[0m\u001b[0;34m-\u001b[0m\u001b[0mtrue_apogee_index\u001b[0m\u001b[0;34m\u001b[0m\u001b[0;34m\u001b[0m\u001b[0m\n\u001b[1;32m     12\u001b[0m     \u001b[0mprint\u001b[0m\u001b[0;34m(\u001b[0m\u001b[0;34m\"Delay frames: {0}:\"\u001b[0m\u001b[0;34m.\u001b[0m\u001b[0mformat\u001b[0m\u001b[0;34m(\u001b[0m\u001b[0mdelay_frame\u001b[0m\u001b[0;34m)\u001b[0m\u001b[0;34m)\u001b[0m\u001b[0;34m\u001b[0m\u001b[0;34m\u001b[0m\u001b[0m\n",
      "\u001b[0;31mNameError\u001b[0m: name 'sampling_period' is not defined"
     ]
    }
   ],
   "source": [
    "# Test the logic\n",
    "alt = np.array(df2)\n",
    "true_apogee_index = np.argmax(alt)\n",
    "true_apogee = max(alt)\n",
    "counters=[]\n",
    "delay_frames=[]\n",
    "delays=[]\n",
    "for i in [5,4,3,2,1]:\n",
    "    [frame,apogee] = detect(alt, i)\n",
    "    delay = (frame-true_apogee_index)*sampling_period\n",
    "    delay_frame = frame-true_apogee_index\n",
    "    print(\"Delay frames: {0}:\".format(delay_frame))\n",
    "    print(\"Delay second: {0:.2f}[sec]\".format(delay))\n",
    "    delay_frames.append(delay_frame)\n",
    "    delays.append(delay)\n",
    "dic = {\"count\": [5,4,3,2,1], \"delays [sec]\": delays, \"delay_frames\": delay_frames}\n",
    "delay_df = pd.DataFrame(data=dic)\n",
    "delay_df"
   ]
  },
  {
   "cell_type": "code",
   "execution_count": 12,
   "id": "a7249bbc-b150-4dd4-b5a8-049f609b6d5c",
   "metadata": {},
   "outputs": [
    {
     "name": "stdout",
     "output_type": "stream",
     "text": [
      "5,4,3,2,1,0,\n",
      "Apogee detected at 114 frame. Apogee: 1371.066 [m]\n",
      "\n"
     ]
    },
    {
     "data": {
      "image/png": "[encoded data removed]",
      "text/plain": [
       "<Figure size 720x432 with 1 Axes>"
      ]
     },
     "metadata": {},
     "output_type": "display_data"
    }
   ],
   "source": [
    "fig, ax = plt.subplots(1, 1,figsize=(10,6))\n",
    "alt = np.array(df2)\n",
    "n_sample = len(alt)\n",
    "# sampling_period = 0.2\n",
    "sampling_period = 0.074\n",
    "# 74ms\n",
    "t = np.arange(0,n_sample*sampling_period,sampling_period)\n",
    "ax.plot(t,alt)\n",
    "\n",
    "\n",
    "COUNT = 5\n",
    "[frame,apogee] = detect(alt, COUNT)\n",
    "x = sampling_period*frame\n",
    "y = df2.iloc[frame]\n",
    "ax.plot(x,y,'bo')\n",
    "\n",
    "plt.xlabel('Elapsed time[sec]')\n",
    "plt.ylabel('Altitude[m]')\n",
    "plt.title(\"Apogee detection by Algirithm ({0} consectuve decrease)\".format(COUNT))\n",
    "print()"
   ]
  },
  {
   "cell_type": "code",
   "execution_count": 25,
   "id": "6c296c47-c12b-4882-afa7-7f5c3d97b340",
   "metadata": {},
   "outputs": [],
   "source": [
    "# Apogee detection algorithm 1\n",
    "# If there is 5 times consecutive decrease in altitude, it is recognized as the apogee.\n",
    "def detect2(xs,DISTANCE):\n",
    "    last = xs[0]\n",
    "    for i,cur in enumerate(xs[1:]):\n",
    "        dist = last - cur\n",
    "        print(dist)\n",
    "        if (dist > DISTANCE):\n",
    "            print(\"Apogee detected at {0} frame. Apogee: {1} [m]\".format(i+1,cur))\n",
    "            return(i+1,cur)\n",
    "        last = cur        "
   ]
  },
  {
   "cell_type": "code",
   "execution_count": 26,
   "id": "9538f867-516c-4ccd-94c8-750be60bb64b",
   "metadata": {},
   "outputs": [
    {
     "name": "stdout",
     "output_type": "stream",
     "text": [
      "0.0\n",
      "-0.25700000000006185\n",
      "0.0\n",
      "-0.5399999999999636\n",
      "0.0\n",
      "-0.6240000000000236\n",
      "0.0\n",
      "-0.7539999999999054\n",
      "0.0\n",
      "-0.27500000000009095\n",
      "0.0\n",
      "-0.28099999999994907\n",
      "0.0\n",
      "0.0\n",
      "-0.28700000000003456\n",
      "0.0\n",
      "-0.9670000000000982\n",
      "0.0\n",
      "-0.9389999999998508\n",
      "0.0\n",
      "-4.317999999999984\n",
      "0.0\n",
      "-4.005000000000109\n",
      "0.0\n",
      "-3.7829999999999018\n",
      "0.0\n",
      "-9.951000000000022\n",
      "0.0\n",
      "-9.448000000000093\n",
      "0.0\n",
      "-4.489000000000033\n",
      "0.0\n",
      "0.0\n",
      "-4.267000000000053\n",
      "0.0\n",
      "-4.023999999999887\n",
      "0.0\n",
      "-0.2639999999998963\n",
      "0.0\n",
      "-0.19100000000003092\n",
      "0.0\n",
      "0.0\n",
      "-0.13400000000001455\n",
      "0.0\n",
      "-2.4680000000000746\n",
      "0.0\n",
      "-2.321999999999889\n",
      "0.0\n",
      "0.0\n",
      "-2.95900000000006\n",
      "0.0\n",
      "-2.754000000000133\n",
      "-2.571999999999889\n",
      "0.0\n",
      "-1.7829999999999018\n",
      "0.0\n",
      "0.0\n",
      "-1.6460000000001855\n",
      "0.0\n",
      "-1.7709999999999582\n",
      "0.0\n",
      "-1.6199999999998909\n",
      "0.0\n",
      "0.0\n",
      "-1.4780000000000655\n",
      "0.0\n",
      "-2.0450000000000728\n",
      "0.0\n",
      "-1.884999999999991\n",
      "0.0\n",
      "-1.7290000000000418\n",
      "0.0\n",
      "-2.2569999999998345\n",
      "0.0\n",
      "-2.0790000000001783\n",
      "0.0\n",
      "-2.3019999999999072\n",
      "0.0\n",
      "-2.122000000000071\n",
      "0.0\n",
      "-1.9510000000000218\n",
      "0.0\n",
      "-1.7409999999999854\n",
      "0.0\n",
      "0.0\n",
      "-1.5839999999998327\n",
      "0.0\n",
      "-1.4220000000000255\n",
      "0.0\n",
      "-1.2950000000000728\n",
      "0.0\n",
      "0.0\n",
      "-1.1579999999999018\n",
      "0.0\n",
      "-1.2760000000000673\n",
      "0.0\n",
      "-1.1440000000000055\n",
      "0.0\n",
      "-0.9970000000000709\n",
      "0.0\n",
      "-0.3209999999999127\n",
      "0.0\n",
      "-0.2400000000000091\n",
      "0.0\n",
      "0.013999999999896318\n",
      "0.0\n",
      "0.10100000000011278\n",
      "0.0\n",
      "0.1879999999998745\n",
      "0.0\n",
      "0.0\n",
      "0.2740000000001146\n",
      "0.0\n",
      "0.31899999999996\n",
      "0.0\n",
      "0.3790000000001328\n",
      "0.0\n",
      "0.32199999999988904\n",
      "0.0\n",
      "0.375\n",
      "0.0\n",
      "0.4559999999999036\n",
      "0.0\n",
      "0.4940000000001419\n",
      "0.0\n",
      "0.5460000000000491\n",
      "0.0\n",
      "0.6369999999999436\n",
      "0.0\n",
      "0.6589999999998781\n",
      "0.0\n",
      "0.6770000000001346\n",
      "0.0\n",
      "0.42699999999990723\n",
      "0.0\n",
      "0.0\n",
      "0.4700000000000273\n",
      "0.0\n",
      "1.1159999999999854\n",
      "0.0\n",
      "1.1050000000000182\n",
      "0.0\n",
      "1.1030000000000655\n",
      "0.0\n",
      "0.9769999999998618\n",
      "0.0\n",
      "0.0\n",
      "0.9700000000000273\n",
      "0.0\n",
      "0.9600000000000364\n",
      "0.0\n",
      "1.0599999999999454\n",
      "0.0\n",
      "1.0520000000001346\n",
      "0.0\n",
      "1.4210000000000491\n",
      "0.0\n",
      "1.3829999999998108\n",
      "0.0\n",
      "1.3530000000000655\n",
      "0.0\n",
      "0.0\n",
      "2.050999999999931\n",
      "0.0\n",
      "1.9750000000001364\n",
      "0.0\n",
      "2.1749999999999545\n",
      "0.0\n",
      "0.0\n",
      "2.0930000000000746\n",
      "0.0\n",
      "2.008000000000038\n",
      "0.0\n",
      "2.1549999999999727\n",
      "0.0\n",
      "2.060999999999922\n",
      "0.0\n",
      "1.97199999999998\n",
      "0.0\n",
      "2.183999999999969\n",
      "0.0\n",
      "2.0750000000000455\n",
      "0.0\n",
      "2.6310000000000855\n",
      "0.0\n",
      "2.51299999999992\n",
      "0.0\n",
      "0.0\n",
      "2.3740000000000236\n",
      "0.0\n",
      "2.5879999999999654\n",
      "0.0\n",
      "2.464999999999918\n",
      "0.0\n",
      "2.7409999999999854\n",
      "0.0\n",
      "2.6100000000001273\n",
      "0.0\n",
      "2.4780000000000655\n",
      "0.0\n",
      "2.51299999999992\n",
      "0.0\n",
      "2.4149999999999636\n",
      "0.0\n",
      "2.2619999999999436\n",
      "0.0\n",
      "0.0\n",
      "2.0830000000000837\n",
      "0.0\n",
      "1.990000000000009\n",
      "0.0\n",
      "1.7919999999999163\n",
      "0.0\n",
      "1.6649999999999636\n",
      "0.0\n",
      "1.5720000000001164\n",
      "0.0\n",
      "2.2480000000000473\n",
      "0.0\n",
      "2.1079999999999472\n",
      "0.0\n",
      "1.9539999999999509\n",
      "0.0\n",
      "2.8940000000000055\n",
      "0.0\n",
      "2.691000000000031\n",
      "0.0\n",
      "2.5499999999999545\n",
      "0.0\n",
      "2.3730000000000473\n"
     ]
    },
    {
     "ename": "TypeError",
     "evalue": "cannot unpack non-iterable NoneType object",
     "output_type": "error",
     "traceback": [
      "\u001b[0;31m---------------------------------------------------------------------------\u001b[0m",
      "\u001b[0;31mTypeError\u001b[0m                                 Traceback (most recent call last)",
      "\u001b[0;32m/var/folders/z1/r5wl186d23314ypyzy3t8wj80000gn/T/ipykernel_54532/339588975.py\u001b[0m in \u001b[0;36m<module>\u001b[0;34m\u001b[0m\n\u001b[1;32m     10\u001b[0m \u001b[0;34m\u001b[0m\u001b[0m\n\u001b[1;32m     11\u001b[0m \u001b[0mDISTANCE\u001b[0m \u001b[0;34m=\u001b[0m \u001b[0;36m5\u001b[0m\u001b[0;34m\u001b[0m\u001b[0;34m\u001b[0m\u001b[0m\n\u001b[0;32m---> 12\u001b[0;31m \u001b[0;34m[\u001b[0m\u001b[0mframe\u001b[0m\u001b[0;34m,\u001b[0m\u001b[0mapogee\u001b[0m\u001b[0;34m]\u001b[0m \u001b[0;34m=\u001b[0m \u001b[0mdetect2\u001b[0m\u001b[0;34m(\u001b[0m\u001b[0malt\u001b[0m\u001b[0;34m,\u001b[0m \u001b[0mDISTANCE\u001b[0m\u001b[0;34m)\u001b[0m\u001b[0;34m\u001b[0m\u001b[0;34m\u001b[0m\u001b[0m\n\u001b[0m\u001b[1;32m     13\u001b[0m \u001b[0mx\u001b[0m \u001b[0;34m=\u001b[0m \u001b[0msampling_period\u001b[0m\u001b[0;34m*\u001b[0m\u001b[0mframe\u001b[0m\u001b[0;34m\u001b[0m\u001b[0;34m\u001b[0m\u001b[0m\n\u001b[1;32m     14\u001b[0m \u001b[0my\u001b[0m \u001b[0;34m=\u001b[0m \u001b[0mdf2\u001b[0m\u001b[0;34m.\u001b[0m\u001b[0miloc\u001b[0m\u001b[0;34m[\u001b[0m\u001b[0mframe\u001b[0m\u001b[0;34m]\u001b[0m\u001b[0;34m\u001b[0m\u001b[0;34m\u001b[0m\u001b[0m\n",
      "\u001b[0;31mTypeError\u001b[0m: cannot unpack non-iterable NoneType object"
     ]
    },
    {
     "data": {
      "image/png": "[encoded data removed]",
      "text/plain": [
       "<Figure size 720x432 with 1 Axes>"
      ]
     },
     "metadata": {},
     "output_type": "display_data"
    }
   ],
   "source": [
    "fig, ax = plt.subplots(1, 1,figsize=(10,6))\n",
    "alt = np.array(df2)\n",
    "n_sample = len(alt)\n",
    "# sampling_period = 0.2\n",
    "sampling_period = 0.074\n",
    "# 74ms\n",
    "t = np.arange(0,n_sample*sampling_period,sampling_period)\n",
    "ax.plot(t,alt)\n",
    "\n",
    "\n",
    "DISTANCE = 5\n",
    "[frame,apogee] = detect2(alt, DISTANCE)\n",
    "x = sampling_period*frame\n",
    "y = df2.iloc[frame]\n",
    "ax.plot(x,y,'bo')\n",
    "\n",
    "plt.xlabel('Elapsed time[sec]')\n",
    "plt.ylabel('Altitude[m]')\n",
    "plt.title(\"Apogee detection by Algirithm ({0}m decrease)\".format(DISTANCE))\n",
    "print()"
   ]
  },
  {
   "cell_type": "code",
   "execution_count": 62,
   "id": "08bf4988-d0c9-4976-a796-b35109bd02b4",
   "metadata": {},
   "outputs": [
    {
     "name": "stdout",
     "output_type": "stream",
     "text": [
      "apogee detected 4 6\n"
     ]
    },
    {
     "data": {
      "text/plain": [
       "[<matplotlib.lines.Line2D at 0x141e24430>]"
      ]
     },
     "execution_count": 62,
     "metadata": {},
     "output_type": "execute_result"
    },
    {
     "data": {
      "image/png": "[encoded data removed]",
      "text/plain": [
       "<Figure size 432x288 with 1 Axes>"
      ]
     },
     "metadata": {},
     "output_type": "display_data"
    }
   ],
   "source": [
    "# To test the algorithm\n",
    "# Compare the current altitude with the temporary apogee\n",
    "# If there is a drop defined by threshold (i.e., 5m), it is set as the apogee\n",
    "import matplotlib.pyplot as plt\n",
    "xs = [0,1,2,3,4,5,6,7,8,9,10,9,8,7,6,5,4,3,2,1]\n",
    "\n",
    "last = xs[0]\n",
    "tmp_apogee = xs[0]\n",
    "tmp_apogee_index = 0\n",
    "ap_index = 0\n",
    "for i,cur in enumerate(xs[1:]):\n",
    "    if cur > tmp_apogee:\n",
    "        ÷ = cur\n",
    "        tmp_apogee_index = i+1\n",
    "    difference = tmp_apogee - cur\n",
    "    if difference > 3:\n",
    "        ap_index = i+1\n",
    "        print(\"apogee detected\",difference,cur)\n",
    "        break\n",
    "plt.plot(xs)\n",
    "plt.plot(tmp_apogee_index,tmp_apogee,'ro')\n",
    "plt.plot(ap_index,cur,'bo')"
   ]
  },
  {
   "cell_type": "code",
   "execution_count": null,
   "id": "f3180f0e-753f-424a-befb-2ad4817b2f28",
   "metadata": {},
   "outputs": [],
   "source": []
  },
  {
   "cell_type": "code",
   "execution_count": null,
   "id": "5534a3ff-2b94-49f8-9389-604df9f252c7",
   "metadata": {},
   "outputs": [],
   "source": []
  }
 ],
 "metadata": {
  "kernelspec": {
   "display_name": "Python 3 (ipykernel)",
   "language": "python",
   "name": "python3"
  },
  "language_info": {
   "codemirror_mode": {
    "name": "ipython",
    "version": 3
   },
   "file_extension": ".py",
   "mimetype": "text/x-python",
   "name": "python",
   "nbconvert_exporter": "python",
   "pygments_lexer": "ipython3",
   "version": "3.9.2"
  }
 },
 "nbformat": 4,
 "nbformat_minor": 5
}
