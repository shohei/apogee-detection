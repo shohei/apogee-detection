{
 "cells": [
  {
   "cell_type": "code",
   "execution_count": 4,
   "id": "41cecf4d-33b9-45d6-8a1c-62ce4086e4e1",
   "metadata": {},
   "outputs": [],
   "source": [
    "import pandas as pd\n",
    "import numpy as np\n",
    "import matplotlib.pyplot as plt"
   ]
  },
  {
   "cell_type": "code",
   "execution_count": 5,
   "id": "aa6bb298-cfa2-403f-9e7e-2a2232007569",
   "metadata": {},
   "outputs": [],
   "source": [
    "# Data from N-2 rocket\n",
    "# Tana is the first rocket launched\n",
    "# It went up to around 80m\n",
    "df = pd.read_csv('tanafull.csv')"
   ]
  },
  {
   "cell_type": "code",
   "execution_count": 6,
   "id": "563b9f45-2667-4ef3-93b4-42c139179288",
   "metadata": {},
   "outputs": [
    {
     "data": {
      "text/html": [
       "<div>\n",
       "<style scoped>\n",
       "    .dataframe tbody tr th:only-of-type {\n",
       "        vertical-align: middle;\n",
       "    }\n",
       "\n",
       "    .dataframe tbody tr th {\n",
       "        vertical-align: top;\n",
       "    }\n",
       "\n",
       "    .dataframe thead th {\n",
       "        text-align: right;\n",
       "    }\n",
       "</style>\n",
       "<table border=\"1\" class=\"dataframe\">\n",
       "  <thead>\n",
       "    <tr style=\"text-align: right;\">\n",
       "      <th></th>\n",
       "      <th>altitude</th>\n",
       "      <th>filtered_a</th>\n",
       "      <th>filtered_s</th>\n",
       "      <th>filtered_v</th>\n",
       "      <th>gx</th>\n",
       "      <th>gy</th>\n",
       "      <th>gz</th>\n",
       "      <th>latitude</th>\n",
       "      <th>longitude</th>\n",
       "      <th>state</th>\n",
       "      <th>temperature</th>\n",
       "    </tr>\n",
       "  </thead>\n",
       "  <tbody>\n",
       "    <tr>\n",
       "      <th>0</th>\n",
       "      <td>1272.909</td>\n",
       "      <td>0.014</td>\n",
       "      <td>1273.154</td>\n",
       "      <td>0.064</td>\n",
       "      <td>-0.001</td>\n",
       "      <td>0.018</td>\n",
       "      <td>0.017</td>\n",
       "      <td>0</td>\n",
       "      <td>0</td>\n",
       "      <td>0</td>\n",
       "      <td>44.983</td>\n",
       "    </tr>\n",
       "    <tr>\n",
       "      <th>1</th>\n",
       "      <td>1272.909</td>\n",
       "      <td>0.014</td>\n",
       "      <td>1273.154</td>\n",
       "      <td>0.064</td>\n",
       "      <td>-0.001</td>\n",
       "      <td>0.018</td>\n",
       "      <td>0.017</td>\n",
       "      <td>0</td>\n",
       "      <td>0</td>\n",
       "      <td>0</td>\n",
       "      <td>44.983</td>\n",
       "    </tr>\n",
       "    <tr>\n",
       "      <th>2</th>\n",
       "      <td>1272.901</td>\n",
       "      <td>0.012</td>\n",
       "      <td>1273.140</td>\n",
       "      <td>0.057</td>\n",
       "      <td>-0.010</td>\n",
       "      <td>0.019</td>\n",
       "      <td>0.017</td>\n",
       "      <td>0</td>\n",
       "      <td>0</td>\n",
       "      <td>0</td>\n",
       "      <td>44.983</td>\n",
       "    </tr>\n",
       "    <tr>\n",
       "      <th>3</th>\n",
       "      <td>1272.901</td>\n",
       "      <td>0.012</td>\n",
       "      <td>1273.140</td>\n",
       "      <td>0.057</td>\n",
       "      <td>-0.010</td>\n",
       "      <td>0.019</td>\n",
       "      <td>0.017</td>\n",
       "      <td>0</td>\n",
       "      <td>0</td>\n",
       "      <td>0</td>\n",
       "      <td>44.983</td>\n",
       "    </tr>\n",
       "    <tr>\n",
       "      <th>4</th>\n",
       "      <td>1272.820</td>\n",
       "      <td>0.010</td>\n",
       "      <td>1273.120</td>\n",
       "      <td>0.047</td>\n",
       "      <td>0.001</td>\n",
       "      <td>0.019</td>\n",
       "      <td>0.017</td>\n",
       "      <td>0</td>\n",
       "      <td>0</td>\n",
       "      <td>0</td>\n",
       "      <td>44.974</td>\n",
       "    </tr>\n",
       "    <tr>\n",
       "      <th>...</th>\n",
       "      <td>...</td>\n",
       "      <td>...</td>\n",
       "      <td>...</td>\n",
       "      <td>...</td>\n",
       "      <td>...</td>\n",
       "      <td>...</td>\n",
       "      <td>...</td>\n",
       "      <td>...</td>\n",
       "      <td>...</td>\n",
       "      <td>...</td>\n",
       "      <td>...</td>\n",
       "    </tr>\n",
       "    <tr>\n",
       "      <th>1826</th>\n",
       "      <td>1284.050</td>\n",
       "      <td>-5.711</td>\n",
       "      <td>1283.788</td>\n",
       "      <td>-27.098</td>\n",
       "      <td>-8.731</td>\n",
       "      <td>-0.286</td>\n",
       "      <td>0.436</td>\n",
       "      <td>0</td>\n",
       "      <td>0</td>\n",
       "      <td>3</td>\n",
       "      <td>45.836</td>\n",
       "    </tr>\n",
       "    <tr>\n",
       "      <th>1827</th>\n",
       "      <td>1284.050</td>\n",
       "      <td>-5.711</td>\n",
       "      <td>1283.788</td>\n",
       "      <td>-27.098</td>\n",
       "      <td>-8.731</td>\n",
       "      <td>-0.286</td>\n",
       "      <td>0.436</td>\n",
       "      <td>0</td>\n",
       "      <td>0</td>\n",
       "      <td>3</td>\n",
       "      <td>45.836</td>\n",
       "    </tr>\n",
       "    <tr>\n",
       "      <th>1828</th>\n",
       "      <td>1283.649</td>\n",
       "      <td>-5.698</td>\n",
       "      <td>1281.238</td>\n",
       "      <td>-27.597</td>\n",
       "      <td>-8.731</td>\n",
       "      <td>-0.435</td>\n",
       "      <td>1.262</td>\n",
       "      <td>0</td>\n",
       "      <td>0</td>\n",
       "      <td>4</td>\n",
       "      <td>45.774</td>\n",
       "    </tr>\n",
       "    <tr>\n",
       "      <th>1829</th>\n",
       "      <td>1283.649</td>\n",
       "      <td>-5.698</td>\n",
       "      <td>1281.238</td>\n",
       "      <td>-27.597</td>\n",
       "      <td>-8.731</td>\n",
       "      <td>-0.435</td>\n",
       "      <td>1.262</td>\n",
       "      <td>0</td>\n",
       "      <td>0</td>\n",
       "      <td>4</td>\n",
       "      <td>45.774</td>\n",
       "    </tr>\n",
       "    <tr>\n",
       "      <th>1830</th>\n",
       "      <td>1283.649</td>\n",
       "      <td>-5.660</td>\n",
       "      <td>1278.865</td>\n",
       "      <td>-27.991</td>\n",
       "      <td>-8.731</td>\n",
       "      <td>-0.463</td>\n",
       "      <td>0.392</td>\n",
       "      <td>0</td>\n",
       "      <td>0</td>\n",
       "      <td>4</td>\n",
       "      <td>45.736</td>\n",
       "    </tr>\n",
       "  </tbody>\n",
       "</table>\n",
       "<p>1831 rows × 11 columns</p>\n",
       "</div>"
      ],
      "text/plain": [
       "      altitude  filtered_a  filtered_s  filtered_v     gx     gy     gz  \\\n",
       "0     1272.909       0.014    1273.154       0.064 -0.001  0.018  0.017   \n",
       "1     1272.909       0.014    1273.154       0.064 -0.001  0.018  0.017   \n",
       "2     1272.901       0.012    1273.140       0.057 -0.010  0.019  0.017   \n",
       "3     1272.901       0.012    1273.140       0.057 -0.010  0.019  0.017   \n",
       "4     1272.820       0.010    1273.120       0.047  0.001  0.019  0.017   \n",
       "...        ...         ...         ...         ...    ...    ...    ...   \n",
       "1826  1284.050      -5.711    1283.788     -27.098 -8.731 -0.286  0.436   \n",
       "1827  1284.050      -5.711    1283.788     -27.098 -8.731 -0.286  0.436   \n",
       "1828  1283.649      -5.698    1281.238     -27.597 -8.731 -0.435  1.262   \n",
       "1829  1283.649      -5.698    1281.238     -27.597 -8.731 -0.435  1.262   \n",
       "1830  1283.649      -5.660    1278.865     -27.991 -8.731 -0.463  0.392   \n",
       "\n",
       "      latitude  longitude  state  temperature  \n",
       "0            0          0      0       44.983  \n",
       "1            0          0      0       44.983  \n",
       "2            0          0      0       44.983  \n",
       "3            0          0      0       44.983  \n",
       "4            0          0      0       44.974  \n",
       "...        ...        ...    ...          ...  \n",
       "1826         0          0      3       45.836  \n",
       "1827         0          0      3       45.836  \n",
       "1828         0          0      4       45.774  \n",
       "1829         0          0      4       45.774  \n",
       "1830         0          0      4       45.736  \n",
       "\n",
       "[1831 rows x 11 columns]"
      ]
     },
     "execution_count": 6,
     "metadata": {},
     "output_type": "execute_result"
    }
   ],
   "source": [
    "df"
   ]
  },
  {
   "cell_type": "code",
   "execution_count": 8,
   "id": "bc72c038-da61-40a9-a078-c30879d02059",
   "metadata": {},
   "outputs": [],
   "source": [
    "# Trim the data frame\n",
    "# Kalman filtered Altitude\n",
    "df2 = df['filtered_s'][1600:]"
   ]
  },
  {
   "cell_type": "code",
   "execution_count": 14,
   "id": "2bb4c12d-007f-416f-a298-dfba798d29e7",
   "metadata": {},
   "outputs": [
    {
     "data": {
      "text/plain": [
       "<AxesSubplot:>"
      ]
     },
     "execution_count": 14,
     "metadata": {},
     "output_type": "execute_result"
    },
    {
     "data": {
      "image/png": "[encoded data removed]",
      "text/plain": [
       "<Figure size 432x288 with 1 Axes>"
      ]
     },
     "metadata": {},
     "output_type": "display_data"
    }
   ],
   "source": [
    "# See the data looks like\n",
    "df2.plot()"
   ]
  },
  {
   "cell_type": "code",
   "execution_count": 48,
   "id": "c1e7ad32-b8ef-4a43-a41e-7ab80c453945",
   "metadata": {},
   "outputs": [],
   "source": [
    "# Apogee detection algorithm 1\n",
    "# If there is 5 times consecutive decrease in altitude, it is recognized as the apogee.\n",
    "def detect(xs,MAX_COUNT):\n",
    "    last = xs[0]\n",
    "    # MAX_COUNT = 1\n",
    "    indicator = MAX_COUNT\n",
    "    print(indicator,end=',')\n",
    "    for i,cur in enumerate(xs[1:]):\n",
    "        if (cur > last):\n",
    "            if (indicator < MAX_COUNT):\n",
    "                indicator = MAX_COUNT\n",
    "                print(indicator,end=',')\n",
    "        if (cur < last):\n",
    "            indicator -= 1\n",
    "            print(indicator,end=',')\n",
    "            if indicator == 0:\n",
    "                print()\n",
    "                print(\"Apogee detected at {0} frame. Apogee: {1} [m]\".format(i+1,cur))\n",
    "                return(i+1,cur)\n",
    "        last = cur"
   ]
  },
  {
   "cell_type": "code",
   "execution_count": 81,
   "id": "1d5499a2-f607-422e-8d37-8d7bafd2b125",
   "metadata": {},
   "outputs": [
    {
     "name": "stdout",
     "output_type": "stream",
     "text": [
      "5,4,3,2,1,0,\n",
      "Apogee detected at 114 frame. Apogee: 1371.066 [m]\n",
      "Delay frames: 11:\n",
      "Delay second: 0.814\n"
     ]
    },
    {
     "ename": "NameError",
     "evalue": "name 'delay_frame' is not defined",
     "output_type": "error",
     "traceback": [
      "\u001b[0;31m---------------------------------------------------------------------------\u001b[0m",
      "\u001b[0;31mNameError\u001b[0m                                 Traceback (most recent call last)",
      "\u001b[0;32m/var/folders/z1/r5wl186d23314ypyzy3t8wj80000gn/T/ipykernel_13086/2172328440.py\u001b[0m in \u001b[0;36m<module>\u001b[0;34m\u001b[0m\n\u001b[1;32m     11\u001b[0m     \u001b[0mprint\u001b[0m\u001b[0;34m(\u001b[0m\u001b[0;34m\"Delay frames: {0}:\"\u001b[0m\u001b[0;34m.\u001b[0m\u001b[0mformat\u001b[0m\u001b[0;34m(\u001b[0m\u001b[0mframe\u001b[0m\u001b[0;34m-\u001b[0m\u001b[0mtrue_apogee_index\u001b[0m\u001b[0;34m)\u001b[0m\u001b[0;34m)\u001b[0m\u001b[0;34m\u001b[0m\u001b[0;34m\u001b[0m\u001b[0m\n\u001b[1;32m     12\u001b[0m     \u001b[0mprint\u001b[0m\u001b[0;34m(\u001b[0m\u001b[0;34m\"Delay second: {0}\"\u001b[0m\u001b[0;34m.\u001b[0m\u001b[0mformat\u001b[0m\u001b[0;34m(\u001b[0m\u001b[0mdelay\u001b[0m\u001b[0;34m)\u001b[0m\u001b[0;34m)\u001b[0m\u001b[0;34m\u001b[0m\u001b[0;34m\u001b[0m\u001b[0m\n\u001b[0;32m---> 13\u001b[0;31m     \u001b[0mdelay_frames\u001b[0m\u001b[0;34m.\u001b[0m\u001b[0mappend\u001b[0m\u001b[0;34m(\u001b[0m\u001b[0mdelay_frame\u001b[0m\u001b[0;34m)\u001b[0m\u001b[0;34m\u001b[0m\u001b[0;34m\u001b[0m\u001b[0m\n\u001b[0m\u001b[1;32m     14\u001b[0m     \u001b[0mdelays\u001b[0m\u001b[0;34m.\u001b[0m\u001b[0mappend\u001b[0m\u001b[0;34m(\u001b[0m\u001b[0mdelay\u001b[0m\u001b[0;34m)\u001b[0m\u001b[0;34m\u001b[0m\u001b[0;34m\u001b[0m\u001b[0m\n\u001b[1;32m     15\u001b[0m \u001b[0mdic\u001b[0m \u001b[0;34m=\u001b[0m \u001b[0;34m{\u001b[0m\u001b[0;34m\"count\"\u001b[0m\u001b[0;34m:\u001b[0m \u001b[0;34m[\u001b[0m\u001b[0;36m5\u001b[0m\u001b[0;34m,\u001b[0m\u001b[0;36m4\u001b[0m\u001b[0;34m,\u001b[0m\u001b[0;36m3\u001b[0m\u001b[0;34m,\u001b[0m\u001b[0;36m2\u001b[0m\u001b[0;34m,\u001b[0m\u001b[0;36m1\u001b[0m\u001b[0;34m]\u001b[0m\u001b[0;34m,\u001b[0m \u001b[0;34m\"delays\"\u001b[0m\u001b[0;34m:\u001b[0m \u001b[0mdelays\u001b[0m\u001b[0;34m,\u001b[0m \u001b[0;34m\"delay_frames\"\u001b[0m\u001b[0;34m:\u001b[0m \u001b[0mdelay_frames\u001b[0m\u001b[0;34m}\u001b[0m\u001b[0;34m\u001b[0m\u001b[0;34m\u001b[0m\u001b[0m\n",
      "\u001b[0;31mNameError\u001b[0m: name 'delay_frame' is not defined"
     ]
    }
   ],
   "source": [
    "# Test the logic\n",
    "alt = np.array(df2)\n",
    "true_apogee_index = np.argmax(alt)\n",
    "true_apogee = max(alt)\n",
    "counters=[]\n",
    "delay_frames=[]\n",
    "delays=[]\n",
    "for i in [5,4,3,2,1]:\n",
    "    [frame,apogee] = detect(alt, i)\n",
    "    delay = (frame-true_apogee_index)*sampling_period\n",
    "    delay_frames = frame-true_apogee_inde\n",
    "    print(\"Delay frames: {0}:\".format(x))\n",
    "    print(\"Delay second: {0}\".format(delay))\n",
    "    delay_frames.append(delay_frame)\n",
    "    delays.append(delay)\n",
    "dic = {\"count\": [5,4,3,2,1], \"delays\": delays, \"delay_frames\": delay_frames}\n",
    "delay_df = pd.DataFrame(data=dic)\n",
    "delay_df"
   ]
  },
  {
   "cell_type": "code",
   "execution_count": 76,
   "id": "19c75d43-ed34-4010-b48e-e4f14626d0c1",
   "metadata": {},
   "outputs": [
    {
     "data": {
      "text/plain": [
       "[[5, 4, 3, 2, 1],\n",
       " [0.814, 0.6659999999999999, 0.44399999999999995, 0.296, 0.148]]"
      ]
     },
     "execution_count": 76,
     "metadata": {},
     "output_type": "execute_result"
    }
   ],
   "source": [
    "[[5,4,3,2,1],delays]"
   ]
  },
  {
   "cell_type": "code",
   "execution_count": 43,
   "id": "a7249bbc-b150-4dd4-b5a8-049f609b6d5c",
   "metadata": {},
   "outputs": [
    {
     "data": {
      "text/plain": [
       "[<matplotlib.lines.Line2D at 0x12b538910>]"
      ]
     },
     "execution_count": 43,
     "metadata": {},
     "output_type": "execute_result"
    },
    {
     "data": {
      "image/png": "[encoded data removed]",
      "text/plain": [
       "<Figure size 720x432 with 1 Axes>"
      ]
     },
     "metadata": {},
     "output_type": "display_data"
    }
   ],
   "source": [
    "fig, ax = plt.subplots(1, 1,figsize=(10,6))\n",
    "alt = np.array(df2)\n",
    "n_sample = len(alt)\n",
    "# sampling_period = 0.2\n",
    "sampling_period = 0.074\n",
    "# 74ms\n",
    "t = np.arange(0,n_sample*sampling_period,sampling_period)\n",
    "ax.plot(t,alt)\n",
    "plt.xlabel('Elapsed time[sec]')\n",
    "plt.ylabel('Altitude[m]')\n",
    "plt.title('Apogee detection by Algirithm 1 (5 consectuve decrease)')\n",
    "x = sampling_period*frame\n",
    "y = df2.iloc[frame]\n",
    "ax.plot(x,y,'bo')"
   ]
  },
  {
   "cell_type": "code",
   "execution_count": null,
   "id": "6c296c47-c12b-4882-afa7-7f5c3d97b340",
   "metadata": {},
   "outputs": [],
   "source": []
  }
 ],
 "metadata": {
  "kernelspec": {
   "display_name": "Python 3 (ipykernel)",
   "language": "python",
   "name": "python3"
  },
  "language_info": {
   "codemirror_mode": {
    "name": "ipython",
    "version": 3
   },
   "file_extension": ".py",
   "mimetype": "text/x-python",
   "name": "python",
   "nbconvert_exporter": "python",
   "pygments_lexer": "ipython3",
   "version": "3.9.2"
  }
 },
 "nbformat": 4,
 "nbformat_minor": 5
}
